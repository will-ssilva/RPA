{
 "cells": [
  {
   "cell_type": "code",
   "execution_count": 1,
   "id": "8cbea3cc",
   "metadata": {},
   "outputs": [
    {
     "name": "stdout",
     "output_type": "stream",
     "text": [
      "✅ Relatório gerado com sucesso!\n"
     ]
    }
   ],
   "source": [
    "import xlsxwriter\n",
    "\n",
    "# Criação do arquivo Excel\n",
    "workbook = xlsxwriter.Workbook(\"dados/relatorio_vendas_x.xlsx\")\n",
    "worksheet = workbook.add_worksheet(\"Vendas\")\n",
    "\n",
    "# Formatações\n",
    "titulo_format = workbook.add_format({\n",
    "    'bold': True, 'font_size': 14, 'align': 'center'\n",
    "})\n",
    "\n",
    "cabecalho_format = workbook.add_format({\n",
    "    'bold': True, 'bg_color': '#D9D9D9', 'border': 1\n",
    "})\n",
    "\n",
    "dinheiro_format = workbook.add_format({'num_format': 'R$ #,##0.00'})\n",
    "verde_format = workbook.add_format({'bg_color': '#C6EFCE'})\n",
    "\n",
    "# Título\n",
    "worksheet.merge_range(\"A1:D1\", \"Relatório de Vendas - Maio\", titulo_format)\n",
    "\n",
    "# Cabeçalhos\n",
    "cabecalhos = [\"Produto\", \"Quantidade\", \"Preço Unitário\", \"Total\"]\n",
    "worksheet.write_row(\"A3\", cabecalhos, cabecalho_format)\n",
    "\n",
    "# Dados de exemplo\n",
    "dados = [\n",
    "    [\"Notebook\", 2, 3500],\n",
    "    [\"Mouse\", 10, 40],\n",
    "    [\"Monitor\", 3, 900],\n",
    "    [\"Teclado\", 5, 120],\n",
    "    [\"Cadeira Gamer\", 1, 1200]\n",
    "]\n",
    "\n",
    "# Inserção dos dados + fórmula de Total\n",
    "linha = 3\n",
    "for item in dados:\n",
    "    produto, qtd, preco = item\n",
    "    worksheet.write(linha, 0, produto)\n",
    "    worksheet.write(linha, 1, qtd)\n",
    "    worksheet.write(linha, 2, preco, dinheiro_format)\n",
    "    worksheet.write_formula(linha, 3, f\"=B{linha+1}*C{linha+1}\", dinheiro_format)\n",
    "    linha += 1\n",
    "\n",
    "# Total geral\n",
    "worksheet.write(linha, 2, \"Total Geral:\", cabecalho_format)\n",
    "worksheet.write_formula(linha, 3, f\"=SUM(D4:D{linha})\", dinheiro_format)\n",
    "\n",
    "# Formatação condicional: valores <= 1000 em verde\n",
    "worksheet.conditional_format(f\"D4:D{linha}\", {\n",
    "    'type': 'cell',\n",
    "    'criteria': '<=',\n",
    "    'value': 1000,\n",
    "    'format': verde_format\n",
    "})\n",
    "\n",
    "# Ajustar largura\n",
    "worksheet.set_column(\"A:A\", 18)\n",
    "worksheet.set_column(\"B:D\", 15)\n",
    "\n",
    "# Salvar arquivo\n",
    "workbook.close()\n",
    "print(\"✅ Relatório gerado com sucesso!\")\n"
   ]
  },
  {
   "cell_type": "code",
   "execution_count": 2,
   "id": "7723796e",
   "metadata": {},
   "outputs": [
    {
     "name": "stdout",
     "output_type": "stream",
     "text": [
      "✅ Arquivo com gráfico criado com sucesso!\n"
     ]
    }
   ],
   "source": [
    "import xlsxwriter\n",
    "\n",
    "# Criação do arquivo e planilha\n",
    "workbook = xlsxwriter.Workbook(\"dados/vendas_com_grafico.xlsx\")\n",
    "worksheet = workbook.add_worksheet(\"Vendas\")\n",
    "\n",
    "# Dados\n",
    "produtos = [\"Notebook\", \"Mouse\", \"Monitor\", \"Teclado\", \"Cadeira Gamer\"]\n",
    "quantidades = [2, 10, 3, 5, 1]\n",
    "\n",
    "# Cabeçalhos\n",
    "worksheet.write(\"A1\", \"Produto\")\n",
    "worksheet.write(\"B1\", \"Quantidade\")\n",
    "\n",
    "# Inserção dos dados\n",
    "for i, (produto, qtd) in enumerate(zip(produtos, quantidades), start=1):\n",
    "    worksheet.write(i, 0, produto)\n",
    "    worksheet.write(i, 1, qtd)\n",
    "\n",
    "# Criar gráfico de colunas\n",
    "grafico = workbook.add_chart({'type': 'column'})\n",
    "\n",
    "# Adicionar série de dados\n",
    "grafico.add_series({\n",
    "    'name':       'Quantidade Vendida',\n",
    "    'categories': f'=Vendas!$A$2:$A${len(produtos)+1}',\n",
    "    'values':     f'=Vendas!$B$2:$B${len(quantidades)+1}',\n",
    "    'fill':       {'color': '#5ABA10'}\n",
    "})\n",
    "\n",
    "# Título do gráfico\n",
    "grafico.set_title({'name': 'Vendas por Produto'})\n",
    "grafico.set_x_axis({'name': 'Produto'})\n",
    "grafico.set_y_axis({'name': 'Quantidade'})\n",
    "\n",
    "# Inserir o gráfico na planilha\n",
    "worksheet.insert_chart(\"D2\", grafico)\n",
    "\n",
    "# Salvar arquivo\n",
    "workbook.close()\n",
    "print(\"✅ Arquivo com gráfico criado com sucesso!\")\n"
   ]
  }
 ],
 "metadata": {
  "kernelspec": {
   "display_name": "Python 3",
   "language": "python",
   "name": "python3"
  },
  "language_info": {
   "codemirror_mode": {
    "name": "ipython",
    "version": 3
   },
   "file_extension": ".py",
   "mimetype": "text/x-python",
   "name": "python",
   "nbconvert_exporter": "python",
   "pygments_lexer": "ipython3",
   "version": "3.12.1"
  }
 },
 "nbformat": 4,
 "nbformat_minor": 5
}
