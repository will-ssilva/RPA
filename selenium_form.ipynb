{
 "cells": [
  {
   "cell_type": "code",
   "execution_count": 1,
   "id": "f8abe553",
   "metadata": {},
   "outputs": [],
   "source": [
    "from selenium import webdriver\n",
    "from selenium.webdriver.common.by import By\n",
    "from selenium.webdriver.support.ui import Select\n",
    "from selenium.webdriver.chrome.service import Service\n",
    "from webdriver_manager.chrome import ChromeDriverManager\n",
    "import time"
   ]
  },
  {
   "cell_type": "code",
   "execution_count": 5,
   "id": "1a8654c3",
   "metadata": {},
   "outputs": [
    {
     "name": "stdout",
     "output_type": "stream",
     "text": [
      "Formulário preenchido e enviado com sucesso.\n"
     ]
    }
   ],
   "source": [
    "# Inicializa o navegador\n",
    "driver = webdriver.Chrome(service=Service(ChromeDriverManager().install()))\n",
    "\n",
    "# Acessa a página de formulário\n",
    "driver.get(\"https://www.selenium.dev/selenium/web/web-form.html\")\n",
    "time.sleep(2)\n",
    "\n",
    "# Preenche campos\n",
    "driver.find_element(By.NAME, \"my-text\").send_keys(\"William Silva\")\n",
    "driver.find_element(By.NAME, \"my-password\").send_keys(\"12345678\")\n",
    "driver.find_element(By.NAME, \"my-textarea\").send_keys(\"Este é um comentário de teste.\")\n",
    "driver.find_element(By.NAME, \"my-date\").send_keys(\"2025-05-15\")\n",
    "driver.find_element(By.NAME, \"my-file\").send_keys(r\"C:\\Users\\willi\\Downloads\\rps.txt\")\n",
    "\n",
    "# Drop-down (select)\n",
    "select_element = driver.find_element(By.NAME, \"my-select\")\n",
    "select = Select(select_element)\n",
    "select.select_by_visible_text(\"Two\")\n",
    "\n",
    "# Checkbox e radio\n",
    "driver.find_element(By.NAME, \"my-check\").click()\n",
    "driver.find_element(By.XPATH, \"//*[@id='my-radio-2']\").click()\n",
    "\n",
    "# Botão de enviar\n",
    "driver.find_element(By.TAG_NAME, \"button\").click()\n",
    "time.sleep(3)\n",
    "\n",
    "print(\"Formulário preenchido e enviado com sucesso.\")\n",
    "driver.quit()"
   ]
  }
 ],
 "metadata": {
  "kernelspec": {
   "display_name": "Python 3",
   "language": "python",
   "name": "python3"
  },
  "language_info": {
   "codemirror_mode": {
    "name": "ipython",
    "version": 3
   },
   "file_extension": ".py",
   "mimetype": "text/x-python",
   "name": "python",
   "nbconvert_exporter": "python",
   "pygments_lexer": "ipython3",
   "version": "3.12.4"
  }
 },
 "nbformat": 4,
 "nbformat_minor": 5
}
