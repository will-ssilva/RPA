{
 "cells": [
  {
   "cell_type": "code",
   "execution_count": 4,
   "id": "e30870f3",
   "metadata": {},
   "outputs": [
    {
     "name": "stdout",
     "output_type": "stream",
     "text": [
      "1: Leanne Graham - Sincere@april.biz\n",
      "2: Ervin Howell - Shanna@melissa.tv\n",
      "3: Clementine Bauch - Nathan@yesenia.net\n",
      "4: Patricia Lebsack - Julianne.OConner@kory.org\n",
      "5: Chelsey Dietrich - Lucio_Hettinger@annie.ca\n",
      "6: Mrs. Dennis Schulist - Karley_Dach@jasper.info\n",
      "7: Kurtis Weissnat - Telly.Hoeger@billy.biz\n",
      "8: Nicholas Runolfsdottir V - Sherwood@rosamond.me\n",
      "9: Glenna Reichert - Chaim_McDermott@dana.io\n",
      "10: Clementina DuBuque - Rey.Padberg@karina.biz\n"
     ]
    }
   ],
   "source": [
    "import requests\n",
    "\n",
    "url = \"https://jsonplaceholder.typicode.com/users\"\n",
    "\n",
    "response = requests.get(url)\n",
    "\n",
    "if response.status_code == 200:\n",
    "    users = response.json()\n",
    "    for user in users:\n",
    "        print(f\"{user['id']}: {user['name']} - {user['email']}\")\n",
    "else:\n",
    "    print(\"❌ Erro na requisição:\", response.status_code)\n"
   ]
  },
  {
   "cell_type": "code",
   "execution_count": 5,
   "id": "0c6ce20b",
   "metadata": {},
   "outputs": [
    {
     "name": "stdout",
     "output_type": "stream",
     "text": [
      "1: Leanne Graham - Sincere@april.biz\n",
      "2: Ervin Howell - Shanna@melissa.tv\n",
      "3: Clementine Bauch - Nathan@yesenia.net\n",
      "4: Patricia Lebsack - Julianne.OConner@kory.org\n",
      "5: Chelsey Dietrich - Lucio_Hettinger@annie.ca\n",
      "6: Mrs. Dennis Schulist - Karley_Dach@jasper.info\n",
      "7: Kurtis Weissnat - Telly.Hoeger@billy.biz\n",
      "8: Nicholas Runolfsdottir V - Sherwood@rosamond.me\n",
      "9: Glenna Reichert - Chaim_McDermott@dana.io\n",
      "10: Clementina DuBuque - Rey.Padberg@karina.biz\n"
     ]
    }
   ],
   "source": [
    "import httpx\n",
    "import asyncio\n",
    "\n",
    "async def fetch_users():\n",
    "    url = \"https://jsonplaceholder.typicode.com/users\"\n",
    "    async with httpx.AsyncClient() as client:\n",
    "        response = await client.get(url)\n",
    "        if response.status_code == 200:\n",
    "            users = response.json()\n",
    "            for user in users:\n",
    "                print(f\"{user['id']}: {user['name']} - {user['email']}\")\n",
    "        else:\n",
    "            print(\"❌ Erro:\", response.status_code)\n",
    "\n",
    "# Executar\n",
    "await fetch_users()\n"
   ]
  }
 ],
 "metadata": {
  "kernelspec": {
   "display_name": "Python 3",
   "language": "python",
   "name": "python3"
  },
  "language_info": {
   "codemirror_mode": {
    "name": "ipython",
    "version": 3
   },
   "file_extension": ".py",
   "mimetype": "text/x-python",
   "name": "python",
   "nbconvert_exporter": "python",
   "pygments_lexer": "ipython3",
   "version": "3.12.1"
  }
 },
 "nbformat": 4,
 "nbformat_minor": 5
}
