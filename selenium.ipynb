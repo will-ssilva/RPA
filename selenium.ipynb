{
 "cells": [
  {
   "cell_type": "code",
   "execution_count": null,
   "id": "7ba618b3",
   "metadata": {},
   "outputs": [],
   "source": [
    "!pip install selenium webdriver-manager\n",
    "\n"
   ]
  },
  {
   "cell_type": "code",
   "execution_count": 6,
   "id": "5b23eb44",
   "metadata": {},
   "outputs": [],
   "source": [
    "from selenium import webdriver\n",
    "from selenium.webdriver.common.by import By\n",
    "from selenium.webdriver.chrome.service import Service\n",
    "from webdriver_manager.chrome import ChromeDriverManager\n",
    "from openpyxl import Workbook\n",
    "import time"
   ]
  },
  {
   "cell_type": "code",
   "execution_count": 8,
   "id": "8120dcfd",
   "metadata": {},
   "outputs": [],
   "source": [
    "def create_workbook(cotacao):\n",
    "    \n",
    "    wb = Workbook()\n",
    "    ws = wb.active\n",
    "    ws.title = 'Cotação'\n",
    "    ws.append([\"Moeda\", \"Valor\"])\n",
    "    ws.append([\"Dólar\", cotacao])\n",
    "    \n",
    "    wb.save('dados/cotacao_dolar.xlsx')"
   ]
  },
  {
   "cell_type": "code",
   "execution_count": 12,
   "id": "3bc0d09d",
   "metadata": {},
   "outputs": [
    {
     "name": "stdout",
     "output_type": "stream",
     "text": [
      "Cotação atual do dólar: R$ Não Encontrado\n",
      "Cotação salva com sucesso em 'cotacao_dolar.xlsx'.\n"
     ]
    }
   ],
   "source": [
    "driver = webdriver.Chrome(service=Service(ChromeDriverManager().install()))\n",
    "\n",
    "driver.get(\"https://www.google.com\")\n",
    "time.sleep(2)\n",
    "\n",
    "caixa_pesquisa = driver.find_element(By.NAME, 'q')\n",
    "caixa_pesquisa.send_keys('cotação dólar hoje')\n",
    "caixa_pesquisa.submit()\n",
    "time.sleep(10)\n",
    "\n",
    "try:\n",
    "    elemento = driver.find_element(By.XPATH, '//span[@data-value]')\n",
    "    cotacao = elemento.text\n",
    "except:\n",
    "    cotacao = 'Não Encontrado'\n",
    "    \n",
    "print(f'Cotação atual do dólar: R$ {cotacao}')\n",
    "\n",
    "driver.quit()\n",
    "\n",
    "create_workbook(cotacao=cotacao)\n",
    "print(\"Cotação salva com sucesso em 'cotacao_dolar.xlsx'.\")"
   ]
  }
 ],
 "metadata": {
  "kernelspec": {
   "display_name": "Python 3",
   "language": "python",
   "name": "python3"
  },
  "language_info": {
   "codemirror_mode": {
    "name": "ipython",
    "version": 3
   },
   "file_extension": ".py",
   "mimetype": "text/x-python",
   "name": "python",
   "nbconvert_exporter": "python",
   "pygments_lexer": "ipython3",
   "version": "3.12.1"
  }
 },
 "nbformat": 4,
 "nbformat_minor": 5
}
