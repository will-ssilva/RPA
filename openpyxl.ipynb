{
 "cells": [
  {
   "cell_type": "code",
   "execution_count": 3,
   "id": "6382153f",
   "metadata": {},
   "outputs": [],
   "source": [
    "from openpyxl.worksheet.table import Table\n",
    "from openpyxl import Workbook, load_workbook\n",
    "from openpyxl.styles import Font, PatternFill\n",
    "from openpyxl.chart import BarChart, Reference\n",
    "from openpyxl.formatting.rule import CellIsRule"
   ]
  },
  {
   "cell_type": "code",
   "execution_count": 5,
   "id": "d4bc3d03",
   "metadata": {},
   "outputs": [
    {
     "name": "stdout",
     "output_type": "stream",
     "text": [
      "Relatório gerado com sucesso.\n"
     ]
    }
   ],
   "source": [
    "# Cria nova planilha\n",
    "wb = Workbook()\n",
    "ws = wb.active\n",
    "ws.title = \"Vendas\"\n",
    "\n",
    "# Cabeçalhos\n",
    "cabecalhos = [\"Produto\", \"Quantidade\", \"Preço Unitário\", \"Total\"]\n",
    "ws.append(cabecalhos)\n",
    "\n",
    "# Estiliza cabeçalhos\n",
    "for col in ws.iter_cols(min_row=1, max_row=1, min_col=1, max_col=4):\n",
    "    for cell in col:\n",
    "        cell.font = Font(bold=True, color=\"FFFFFF\")\n",
    "        cell.fill = PatternFill(start_color=\"4F81BD\", fill_type=\"solid\")\n",
    "\n",
    "# Dados fictícios\n",
    "vendas = [\n",
    "    [\"Notebook\", 2, 3500],\n",
    "    [\"Mouse\", 10, 40],\n",
    "    [\"Monitor\", 3, 900],\n",
    "    [\"Teclado\", 5, 120],\n",
    "    [\"Cadeira Gamer\", 1, 1200],\n",
    "]\n",
    "\n",
    "# Inserir dados e fórmula\n",
    "for i, (produto, qtd, preco) in enumerate(vendas, start=2):\n",
    "    ws[f\"A{i}\"] = produto\n",
    "    ws[f\"B{i}\"] = qtd\n",
    "    ws[f\"C{i}\"] = preco\n",
    "    ws[f\"D{i}\"] = f\"=B{i}*C{i}\"  # fórmula automática\n",
    "\n",
    "verde = PatternFill(start_color=\"C6EFCE\", end_color=\"C6EFCE\", fill_type=\"solid\")\n",
    "vermelho = PatternFill(start_color=\"FFC7CE\", end_color=\"FFC7CE\", fill_type=\"solid\")\n",
    "# Valores > 1000 em vermelho\n",
    "ws.conditional_formatting.add(\"D2:D6\", CellIsRule(operator='greaterThan', formula=['1000'], fill=vermelho))\n",
    "# Valores <= 1000 em verde\n",
    "ws.conditional_formatting.add(\"D2:D6\", CellIsRule(operator='lessThanOrEqual', formula=['1000'], fill=verde))\n",
    "\n",
    "# Salvar arquivo\n",
    "wb.save(\"dados/relatorio_vendas.xlsx\")\n",
    "print(\"Relatório gerado com sucesso.\")"
   ]
  },
  {
   "cell_type": "code",
   "execution_count": 10,
   "id": "476557dd",
   "metadata": {},
   "outputs": [
    {
     "name": "stdout",
     "output_type": "stream",
     "text": [
      "✅ Gráfico adicionado com sucesso!\n"
     ]
    }
   ],
   "source": [
    "# Abrir a planilha existente\n",
    "wb = load_workbook(\"dados/relatorio_vendas.xlsx\")\n",
    "ws = wb[\"Vendas\"]\n",
    "\n",
    "# Criar nova aba para o gráfico\n",
    "ws_grafico = wb.create_sheet(\"Gráfico\")\n",
    "\n",
    "# Criar gráfico de barras\n",
    "grafico = BarChart()\n",
    "grafico.title = \"Vendas por Produto\"\n",
    "grafico.x_axis.title = \"Produto\"\n",
    "grafico.y_axis.title = \"Quantidade\"\n",
    "\n",
    "# Referenciar os dados (A2:A6 = produtos, B2:B6 = quantidades)\n",
    "categorias = Reference(ws, min_col=1, min_row=2, max_row=6)\n",
    "valores = Reference(ws, min_col=2, min_row=1, max_row=6)  # inclui cabeçalho\n",
    "\n",
    "grafico.add_data(valores, titles_from_data=True)\n",
    "grafico.set_categories(categorias)\n",
    "\n",
    "# Inserir o gráfico na nova aba\n",
    "ws_grafico.add_chart(grafico, \"A1\")\n",
    "\n",
    "# Salvar com gráfico\n",
    "wb.save(\"dados/relatorio_vendas.xlsx\")\n",
    "print(\"✅ Gráfico adicionado com sucesso!\")\n"
   ]
  }
 ],
 "metadata": {
  "kernelspec": {
   "display_name": "Python 3",
   "language": "python",
   "name": "python3"
  },
  "language_info": {
   "codemirror_mode": {
    "name": "ipython",
    "version": 3
   },
   "file_extension": ".py",
   "mimetype": "text/x-python",
   "name": "python",
   "nbconvert_exporter": "python",
   "pygments_lexer": "ipython3",
   "version": "3.12.1"
  }
 },
 "nbformat": 4,
 "nbformat_minor": 5
}
