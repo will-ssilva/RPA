{
 "cells": [
  {
   "cell_type": "code",
   "execution_count": null,
   "id": "750f733b",
   "metadata": {},
   "outputs": [],
   "source": [
    "import pyautogui\n",
    "import time\n",
    "import os"
   ]
  },
  {
   "cell_type": "code",
   "execution_count": 8,
   "id": "602e72ef",
   "metadata": {},
   "outputs": [],
   "source": [
    "pyautogui.PAUSE = 0.5\n",
    "\n",
    "time.sleep(1)\n",
    "\n",
    "pyautogui.press('win')\n",
    "time.sleep(1)\n",
    "pyautogui.write('bloco de notas')\n",
    "pyautogui.press('enter')\n",
    "\n",
    "time.sleep(2)\n",
    "\n",
    "texto = \"\"\"Ola!\n",
    "Apenas um teste de automação com PyAutoGUI.\n",
    "Arquivo criado automaticamente.\n",
    "\"\"\"\n",
    "\n",
    "pyautogui.write(texto)\n",
    "\n",
    "pyautogui.hotkey('ctrl', 's')\n",
    "time.sleep(1)\n",
    "\n",
    "caminho = os.path.join(os.path.expanduser('~'), r'Documents\\001. Projetos\\002. Treinamentos\\008. RPA\\RPA\\dados', 'teste_automacao.txt')\n",
    "pyautogui.write(caminho)\n",
    "\n",
    "pyautogui.press('enter')"
   ]
  },
  {
   "cell_type": "markdown",
   "id": "ce8a6307",
   "metadata": {},
   "source": []
  }
 ],
 "metadata": {
  "kernelspec": {
   "display_name": "Python 3",
   "language": "python",
   "name": "python3"
  },
  "language_info": {
   "codemirror_mode": {
    "name": "ipython",
    "version": 3
   },
   "file_extension": ".py",
   "mimetype": "text/x-python",
   "name": "python",
   "nbconvert_exporter": "python",
   "pygments_lexer": "ipython3",
   "version": "3.12.1"
  }
 },
 "nbformat": 4,
 "nbformat_minor": 5
}
