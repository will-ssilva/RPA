{
 "cells": [
  {
   "cell_type": "code",
   "execution_count": 5,
   "id": "fb0f9303",
   "metadata": {},
   "outputs": [],
   "source": [
    "import pandas as pd\n",
    "import matplotlib.pyplot as plt\n",
    "from matplotlib.backends.backend_pdf import PdfPages"
   ]
  },
  {
   "cell_type": "code",
   "execution_count": null,
   "id": "97ce6ea4",
   "metadata": {},
   "outputs": [
    {
     "name": "stdout",
     "output_type": "stream",
     "text": [
      "Planilha 'cotacoes.xlsx' criada com sucesso.\n"
     ]
    }
   ],
   "source": [
    "# Dados fictícios\n",
    "dados = {\n",
    "    'Data': ['2025-05-12', '2025-05-13', '2025-05-14', '2025-05-15'],\n",
    "    'Cotação': [5.12, 5.15, 5.10, 5.18]\n",
    "}\n",
    "\n",
    "df = pd.DataFrame(dados)\n",
    "df.to_excel('dados/cotacoes.xlsx', index=False)\n",
    "print(\"Planilha 'cotacoes.xlsx' criada com sucesso.\")\n",
    "\n",
    "df = pd.read_excel('dados/cotacoes.xlsx')\n",
    "df['Data'] = pd.to_datetime(df['Data'])\n",
    "\n",
    "plt.figure(figsize=(10, 6))\n",
    "plt.plot(df['Data'], df['Cotação'], marker='o', color='blue')\n",
    "plt.title('Cotação do Dólar - Semana')\n",
    "plt.xlabel('Data')\n",
    "plt.ylabel('Valor em R$')\n",
    "plt.grid(True)\n",
    "plt.xticks(rotation=45)\n",
    "\n",
    "with PdfPages('dados/relatorio_cotacao.pdf') as pdf:\n",
    "    pdf.savefig()\n",
    "    plt.close()\n",
    "    \n",
    "print(\"Relatório salvo como 'relatorio_cotacao.pdf'\")"
   ]
  }
 ],
 "metadata": {
  "kernelspec": {
   "display_name": "Python 3",
   "language": "python",
   "name": "python3"
  },
  "language_info": {
   "codemirror_mode": {
    "name": "ipython",
    "version": 3
   },
   "file_extension": ".py",
   "mimetype": "text/x-python",
   "name": "python",
   "nbconvert_exporter": "python",
   "pygments_lexer": "ipython3",
   "version": "3.12.1"
  }
 },
 "nbformat": 4,
 "nbformat_minor": 5
}
