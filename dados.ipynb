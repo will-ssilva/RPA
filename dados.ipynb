{
 "cells": [
  {
   "cell_type": "code",
   "execution_count": 17,
   "id": "b2498c92",
   "metadata": {},
   "outputs": [
    {
     "name": "stdout",
     "output_type": "stream",
     "text": [
      "[RPA][ERROR] - use init() before using close()\n",
      "[RPA][INFO] - to use visual automation mode, OpenJDK v8 (64-bit) or later is required\n",
      "[RPA][INFO] - download from Amazon Corretto's website - https://aws.amazon.com/corretto\n",
      "[RPA][INFO] - OpenJDK is preferred over Java JDK which is free for non-commercial use only\n",
      "[RPA][ERROR] - use init() before using url()\n",
      "[RPA][ERROR] - use init() before using type()\n",
      "[RPA][ERROR] - use init() before using keyboard()\n",
      "[RPA][ERROR] - use init() before using read()\n",
      "[RPA][ERROR] - use init() before using close()\n"
     ]
    },
    {
     "data": {
      "text/plain": [
       "False"
      ]
     },
     "execution_count": 17,
     "metadata": {},
     "output_type": "execute_result"
    }
   ],
   "source": [
    "import rpa as r\n",
    "import time\n",
    "\n",
    "# Inicializa o RPA\n",
    "r.close()\n",
    "r.init(visual_automation=True)\n",
    "\n",
    "# Abre o Google\n",
    "r.url('https://www.google.com')\n",
    "\n",
    "r.type('q', 'Automação com Python [RPA]')\n",
    "time.sleep(1)\n",
    "r.keyboard('[enter]')\n",
    "r.wait(5)\n",
    "html_content = r.read('html')\n",
    "with open('dados/resultado_google.html', 'w', encoding='utf-8') as f:\n",
    "    f.write(html_content)\n",
    "\n",
    "# Finaliza o RPA\n",
    "r.close()\n"
   ]
  }
 ],
 "metadata": {
  "kernelspec": {
   "display_name": "Python 3",
   "language": "python",
   "name": "python3"
  },
  "language_info": {
   "codemirror_mode": {
    "name": "ipython",
    "version": 3
   },
   "file_extension": ".py",
   "mimetype": "text/x-python",
   "name": "python",
   "nbconvert_exporter": "python",
   "pygments_lexer": "ipython3",
   "version": "3.12.1"
  }
 },
 "nbformat": 4,
 "nbformat_minor": 5
}
