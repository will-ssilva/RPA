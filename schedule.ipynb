{
 "cells": [
  {
   "cell_type": "code",
   "execution_count": 6,
   "id": "fbaec50d",
   "metadata": {},
   "outputs": [],
   "source": [
    "import schedule\n",
    "import time\n",
    "import smtplib\n",
    "from email.message import EmailMessage"
   ]
  },
  {
   "cell_type": "code",
   "execution_count": 7,
   "id": "1a4e7e01",
   "metadata": {},
   "outputs": [],
   "source": [
    "def enviar_email():\n",
    "    remetente = 'williamsouza.silvah@gmail.com'\n",
    "    senha = 'sozd zztn rloq gwmi'\n",
    "    destinatario = 'williamsouza.silva@hotmail.com'\n",
    "\n",
    "    msg = EmailMessage()\n",
    "    msg['Subject'] = 'Relatório Cotação Dólar'\n",
    "    msg['From'] = remetente\n",
    "    msg['To'] = destinatario\n",
    "    msg.set_content('Segue em anexo o relatório de cotação do dólar.')\n",
    "\n",
    "    # Anexa o PDF\n",
    "    with open('dados/relatorio_cotacao.pdf', 'rb') as f:\n",
    "        pdf_data = f.read()\n",
    "        msg.add_attachment(pdf_data, maintype='application', subtype='pdf', filename='relatorio_cotacao.pdf')\n",
    "\n",
    "    with smtplib.SMTP_SSL('smtp.gmail.com', 465) as smtp:\n",
    "        smtp.login(remetente, senha)\n",
    "        smtp.send_message(msg)\n",
    "\n",
    "    print(\"E-mail enviado com sucesso!\")"
   ]
  },
  {
   "cell_type": "code",
   "execution_count": null,
   "id": "3cafd864",
   "metadata": {},
   "outputs": [
    {
     "name": "stdout",
     "output_type": "stream",
     "text": [
      "Agendamento iniciado... (Ctrl+C para parar)\n",
      "E-mail enviado com sucesso!\n"
     ]
    }
   ],
   "source": [
    "\n",
    "def tarefa_diaria():\n",
    "    enviar_email()\n",
    "\n",
    "schedule.every().day.at(\"17:45\").do(tarefa_diaria)\n",
    "\n",
    "print(\"Agendamento iniciado... (Ctrl+C para parar)\")\n",
    "while True:\n",
    "    schedule.run_pending()\n",
    "    time.sleep(60)\n"
   ]
  }
 ],
 "metadata": {
  "kernelspec": {
   "display_name": "Python 3",
   "language": "python",
   "name": "python3"
  },
  "language_info": {
   "codemirror_mode": {
    "name": "ipython",
    "version": 3
   },
   "file_extension": ".py",
   "mimetype": "text/x-python",
   "name": "python",
   "nbconvert_exporter": "python",
   "pygments_lexer": "ipython3",
   "version": "3.12.1"
  }
 },
 "nbformat": 4,
 "nbformat_minor": 5
}
