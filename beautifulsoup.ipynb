{
 "cells": [
  {
   "cell_type": "code",
   "execution_count": 1,
   "id": "3318e48c",
   "metadata": {},
   "outputs": [],
   "source": [
    "from bs4 import BeautifulSoup\n",
    "\n",
    "# HTML simulado (como se fosse uma página da web)\n",
    "html = \"\"\"\n",
    "<html>\n",
    "<head><title>Minha Loja</title></head>\n",
    "<body>\n",
    "    <div class=\"produto\">\n",
    "        <h2 class=\"nome\">Notebook Dell</h2>\n",
    "        <p class=\"preco\">R$ 3.500,00</p>\n",
    "        <span class=\"disponivel\">Em estoque</span>\n",
    "    </div>\n",
    "    <div class=\"produto\">\n",
    "        <h2 class=\"nome\">Mouse Gamer</h2>\n",
    "        <p class=\"preco\">R$ 120,00</p>\n",
    "        <span class=\"disponivel\">Sem estoque</span>\n",
    "    </div>\n",
    "    <div class=\"produto\">\n",
    "        <h2 class=\"nome\">Teclado Mecânico</h2>\n",
    "        <p class=\"preco\">R$ 250,00</p>\n",
    "        <span class=\"disponivel\">Em estoque</span>\n",
    "    </div>\n",
    "</body>\n",
    "</html>\n",
    "\"\"\""
   ]
  },
  {
   "cell_type": "code",
   "execution_count": 2,
   "id": "03e670d6",
   "metadata": {},
   "outputs": [
    {
     "name": "stdout",
     "output_type": "stream",
     "text": [
      "📦 Produto: Notebook Dell\n",
      "💰 Preço: R$ 3.500,00\n",
      "📌 Disponibilidade: Em estoque\n",
      "----------------------------------------\n",
      "📦 Produto: Mouse Gamer\n",
      "💰 Preço: R$ 120,00\n",
      "📌 Disponibilidade: Sem estoque\n",
      "----------------------------------------\n",
      "📦 Produto: Teclado Mecânico\n",
      "💰 Preço: R$ 250,00\n",
      "📌 Disponibilidade: Em estoque\n",
      "----------------------------------------\n"
     ]
    }
   ],
   "source": [
    "# Parse do HTML com lxml\n",
    "soup = BeautifulSoup(html, 'lxml')\n",
    "\n",
    "# Encontrar todos os produtos\n",
    "produtos = soup.find_all('div', class_='produto')\n",
    "\n",
    "# Extração\n",
    "for produto in produtos:\n",
    "    nome = produto.find('h2', class_='nome').text\n",
    "    preco = produto.find('p', class_='preco').text\n",
    "    disponibilidade = produto.find('span', class_='disponivel').text\n",
    "\n",
    "    print(f\"📦 Produto: {nome}\")\n",
    "    print(f\"💰 Preço: {preco}\")\n",
    "    print(f\"📌 Disponibilidade: {disponibilidade}\")\n",
    "    print('-' * 40)"
   ]
  },
  {
   "cell_type": "markdown",
   "id": "a46fa4f4",
   "metadata": {},
   "source": [
    "------------------"
   ]
  },
  {
   "cell_type": "code",
   "execution_count": 6,
   "id": "89f60965",
   "metadata": {},
   "outputs": [
    {
     "name": "stdout",
     "output_type": "stream",
     "text": [
      "1. Goiás é o primeiro estado a regulamentar uso de inteligência artificial\n",
      "2. Europa fecha o cerco contra big techs com multas e investigações; veja casos\n",
      "3. Anatel e Ancine assinam acordo de cooperação para combate à pirataria de conteúdos audiovisuais\n",
      "4. GloboSec Week 2025 abre inscrições para universitários interessados em Segurança da Informação\n",
      "5. Presidente da Câmara de SP volta a indicar compulsoriamente vereadores do PT e PSOL para obrigar instalação da 'CPI das íris'\n",
      "6. Como proteger os dados do seu celular antes de viajar para outro país\n",
      "7. Parceria entre Uber e iFood permitirá uso dos dois serviços em um único app\n",
      "8. É #FAKE vídeo viral de pessoa dentro de bola inflável gigante despencando de passarela; trata-se de uma propaganda de cerveja\n",
      "9. Bem de perto: como tirar fotos de detalhes com o celular\n",
      "10. Microsoft demite mais de 6 mil funcionários, diz site; brasileiros são afetados\n"
     ]
    }
   ],
   "source": [
    "import requests\n",
    "from bs4 import BeautifulSoup\n",
    "\n",
    "# URL real de notícias de tecnologia\n",
    "url = \"https://g1.globo.com/tecnologia/\"\n",
    "\n",
    "# Fazer requisição\n",
    "response = requests.get(url)\n",
    "\n",
    "# Verificar se deu certo\n",
    "if response.status_code == 200:\n",
    "    soup = BeautifulSoup(response.content, 'lxml')\n",
    "\n",
    "    # Buscar títulos de notícias (as classes podem mudar, então checamos as mais comuns)\n",
    "    noticias = soup.find_all('div', class_='feed-post-body')\n",
    "\n",
    "    for i, noticia in enumerate(noticias[:10], start=1):  # Limita às 10 primeiras\n",
    "        titulo = noticia.find('a', class_='feed-post-link')\n",
    "        if titulo:\n",
    "            print(f\"{i}. {titulo.text.strip()}\")\n",
    "else:\n",
    "    print(\"❌ Erro ao acessar a página:\", response.status_code)\n"
   ]
  }
 ],
 "metadata": {
  "kernelspec": {
   "display_name": "Python 3",
   "language": "python",
   "name": "python3"
  },
  "language_info": {
   "codemirror_mode": {
    "name": "ipython",
    "version": 3
   },
   "file_extension": ".py",
   "mimetype": "text/x-python",
   "name": "python",
   "nbconvert_exporter": "python",
   "pygments_lexer": "ipython3",
   "version": "3.12.1"
  }
 },
 "nbformat": 4,
 "nbformat_minor": 5
}
