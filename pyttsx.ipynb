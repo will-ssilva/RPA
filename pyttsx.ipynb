{
 "cells": [
  {
   "cell_type": "code",
   "execution_count": 9,
   "id": "331006d3",
   "metadata": {},
   "outputs": [],
   "source": [
    "import pyttsx3\n",
    "\n",
    "# Inicializa o motor de voz\n",
    "engine = pyttsx3.init()\n",
    "\n",
    "# Define a velocidade da fala (opcional)\n",
    "engine.setProperty('rate', 150)\n",
    "\n",
    "# Define a voz (opcional — muda para voz feminina, se disponível)\n",
    "voices = engine.getProperty('voices')\n",
    "engine.setProperty('voice', voices[0].id)  # ou voices[1].id para tentar voz feminina\n",
    "\n",
    "# Texto que será falado\n",
    "mensagem = \"Olá! Este é um teste de automação com texto para fala usando Python.\"\n",
    "\n",
    "# Executa a fala\n",
    "engine.say(mensagem)\n",
    "engine.runAndWait()\n"
   ]
  }
 ],
 "metadata": {
  "kernelspec": {
   "display_name": "Python 3",
   "language": "python",
   "name": "python3"
  },
  "language_info": {
   "codemirror_mode": {
    "name": "ipython",
    "version": 3
   },
   "file_extension": ".py",
   "mimetype": "text/x-python",
   "name": "python",
   "nbconvert_exporter": "python",
   "pygments_lexer": "ipython3",
   "version": "3.12.1"
  }
 },
 "nbformat": 4,
 "nbformat_minor": 5
}
