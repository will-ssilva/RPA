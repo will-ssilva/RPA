{
 "cells": [
  {
   "cell_type": "code",
   "execution_count": null,
   "id": "654407a7",
   "metadata": {},
   "outputs": [],
   "source": [
    "import asyncio\n",
    "from playwright.async_api import async_playwright\n",
    "\n",
    "async def run():\n",
    "    async with async_playwright() as p:\n",
    "        browser = await p.chromium.launch(headless=False)\n",
    "        page = await browser.new_page()\n",
    "        \n",
    "        await page.goto(\"https://www.selenium.dev/selenium/web/web-form.html\")\n",
    "\n",
    "        await page.fill('input[name=\"my-text\"]', \"Playwright Teste\")\n",
    "        await page.fill('textarea[name=\"my-textarea\"]', \"Automatizando com Playwright!\")\n",
    "        await page.fill('input[name=\"my-date\"]', \"2025-05-16\")\n",
    "\n",
    "        await page.select_option('select[name=\"my-select\"]', '2')\n",
    "        await page.check('input[name=\"my-check\"]')\n",
    "        await page.check('input[name=\"my-radio\"]')\n",
    "        \n",
    "        await asyncio.sleep(2)\n",
    "\n",
    "        await page.click('button')\n",
    "        await asyncio.sleep(2)\n",
    "        await browser.close()\n",
    "\n",
    "# Executar no Jupyter ou outro ambiente assíncrono\n",
    "await run()"
   ]
  }
 ],
 "metadata": {
  "kernelspec": {
   "display_name": "Python 3",
   "language": "python",
   "name": "python3"
  },
  "language_info": {
   "codemirror_mode": {
    "name": "ipython",
    "version": 3
   },
   "file_extension": ".py",
   "mimetype": "text/x-python",
   "name": "python",
   "nbconvert_exporter": "python",
   "pygments_lexer": "ipython3",
   "version": "3.12.1"
  }
 },
 "nbformat": 4,
 "nbformat_minor": 5
}
